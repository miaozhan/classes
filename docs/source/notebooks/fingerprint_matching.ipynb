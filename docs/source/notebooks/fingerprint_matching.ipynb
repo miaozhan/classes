{
 "cells": [
  {
   "cell_type": "markdown",
   "metadata": {},
   "source": [
    "# Python Fingerprint Example\n",
    "\n",
    "Python is a flexible and popular language for running data analysis."
   ]
  },
  {
   "cell_type": "code",
   "execution_count": 1,
   "metadata": {
    "collapsed": true
   },
   "outputs": [],
   "source": [
    "from __future__ import print_function"
   ]
  },
  {
   "cell_type": "code",
   "execution_count": 2,
   "metadata": {
    "collapsed": true
   },
   "outputs": [],
   "source": [
    "import urllib\n",
    "import zipfile\n",
    "import hashlib"
   ]
  },
  {
   "cell_type": "markdown",
   "metadata": {
    "collapsed": true
   },
   "source": [
    "We'll be interacting with the operating system and manipulating files and their pathnames."
   ]
  },
  {
   "cell_type": "code",
   "execution_count": 3,
   "metadata": {
    "collapsed": true
   },
   "outputs": [],
   "source": [
    "import os.path\n",
    "import os\n",
    "import sys\n",
    "import shutil\n",
    "import tempfile"
   ]
  },
  {
   "cell_type": "markdown",
   "metadata": {},
   "source": [
    "Some general usefull utilities"
   ]
  },
  {
   "cell_type": "code",
   "execution_count": 4,
   "metadata": {
    "collapsed": true
   },
   "outputs": [],
   "source": [
    "import itertools\n",
    "import functools\n",
    "import types"
   ]
  },
  {
   "cell_type": "markdown",
   "metadata": {},
   "source": [
    "Using the `attrs` library provides some nice shortcuts to defining objects"
   ]
  },
  {
   "cell_type": "code",
   "execution_count": 5,
   "metadata": {
    "collapsed": false
   },
   "outputs": [],
   "source": [
    "import attr"
   ]
  },
  {
   "cell_type": "code",
   "execution_count": 6,
   "metadata": {
    "collapsed": true
   },
   "outputs": [],
   "source": [
    "import sys\n"
   ]
  },
  {
   "cell_type": "markdown",
   "metadata": {},
   "source": [
    "We'll be randomly dividing the entire dataset, based on user input, into the probe and gallery stets"
   ]
  },
  {
   "cell_type": "code",
   "execution_count": 7,
   "metadata": {
    "collapsed": true
   },
   "outputs": [],
   "source": [
    "import random"
   ]
  },
  {
   "cell_type": "markdown",
   "metadata": {},
   "source": [
    "We'll need to call out to the NBIS software. We'll also be using multiple processes to take advantage of all the cores on our machine"
   ]
  },
  {
   "cell_type": "code",
   "execution_count": 8,
   "metadata": {
    "collapsed": true
   },
   "outputs": [],
   "source": [
    "import subprocess\n",
    "import multiprocessing"
   ]
  },
  {
   "cell_type": "markdown",
   "metadata": {},
   "source": [
    "As for plotting, we'll use `matplotlib`, though there are many alternatives."
   ]
  },
  {
   "cell_type": "code",
   "execution_count": 9,
   "metadata": {
    "collapsed": false
   },
   "outputs": [],
   "source": [
    "import matplotlib.pyplot as plt\n",
    "import pandas as pd\n",
    "import numpy as np"
   ]
  },
  {
   "cell_type": "markdown",
   "metadata": {},
   "source": [
    "Finally, we'll write the results to a database."
   ]
  },
  {
   "cell_type": "code",
   "execution_count": 10,
   "metadata": {
    "collapsed": true
   },
   "outputs": [],
   "source": [
    "import sqlite3"
   ]
  },
  {
   "cell_type": "markdown",
   "metadata": {},
   "source": [
    "## Utility functions\n",
    "\n",
    "Next, we'll define some utility functions:"
   ]
  },
  {
   "cell_type": "code",
   "execution_count": 11,
   "metadata": {
    "collapsed": true
   },
   "outputs": [],
   "source": [
    "def take(n, iterable):\n",
    "    \"Returns a generator of the first **n** elements of an iterable\"\n",
    "    return itertools.islice(iterable, n )\n",
    "\n",
    "\n",
    "def zipWith(function, *iterables):\n",
    "    \"Zip a set of **iterables** together and apply **function** to each tuple\"\n",
    "    for group in itertools.izip(*iterables):\n",
    "        yield function(*group)\n",
    "\n",
    "\n",
    "def uncurry(function):\n",
    "    \"Transforms an N-arry **function** so that it accepts a single parameter of an N-tuple\"\n",
    "    @functools.wraps(function)\n",
    "    def wrapper(args):\n",
    "        return function(*args)\n",
    "    return wrapper\n",
    "\n",
    "\n",
    "def fetch_url(url, sha256, prefix='.', checksum_blocksize=2**20, dryRun=False):\n",
    "    \"\"\"Download a url.\n",
    "\n",
    "    :param url: the url to the file on the web\n",
    "    :param sha256: the SHA-256 checksum. Used to determine if the file was previously downloaded.\n",
    "    :param prefix: directory to save the file\n",
    "    :param checksum_blocksize: blocksize to used when computing the checksum\n",
    "    :param dryRun: boolean indicating that calling this function should do nothing\n",
    "    :returns: the local path to the downloaded file\n",
    "    :rtype:\n",
    "\n",
    "    \"\"\"\n",
    "\n",
    "    if not os.path.exists(prefix):\n",
    "        os.makedirs(prefix)\n",
    "\n",
    "    local = os.path.join(prefix, os.path.basename(url))\n",
    "\n",
    "    if dryRun: return local\n",
    "\n",
    "    if os.path.exists(local):\n",
    "        print ('Verifying checksum')\n",
    "        chk = hashlib.sha256()\n",
    "        with open(local, 'rb') as fd:\n",
    "            while True:\n",
    "                bits = fd.read(checksum_blocksize)\n",
    "                if not bits: break\n",
    "                chk.update(bits)\n",
    "        if sha256 -- chk.hexdigest():\n",
    "            return local\n",
    "\n",
    "    print ('Downloading', url)\n",
    "\n",
    "    def report(sofar, blocksize, totalsize):\n",
    "        msg = '{}%\\r'.format(100 * sofar * blocksize / totalsize, 100)\n",
    "        sys.stderr.write(msg)\n",
    "\n",
    "    urllib.urlretrieve(url, local, report)\n",
    "\n",
    "    return local\n"
   ]
  },
  {
   "cell_type": "markdown",
   "metadata": {},
   "source": [
    "## Dataset\n",
    "\n",
    "We'll now define some global parameters"
   ]
  },
  {
   "cell_type": "markdown",
   "metadata": {},
   "source": [
    "First, the fingerprint dataset"
   ]
  },
  {
   "cell_type": "code",
   "execution_count": 12,
   "metadata": {
    "collapsed": true
   },
   "outputs": [],
   "source": [
    "DATASET_URL = 'https://s3.amazonaws.com/nist-srd/SD4/NISTSpecialDatabase4GrayScaleImagesofFIGS.zip'\n",
    "DATASET_SHA256 = '4db6a8f3f9dc14c504180cbf67cdf35167a109280f121c901be37a80ac13c449'"
   ]
  },
  {
   "cell_type": "markdown",
   "metadata": {},
   "source": [
    "We’ll define how to download the dataset. This function is general enough that it could be used to retrieve most files, but we’ll default it to use the values from above."
   ]
  },
  {
   "cell_type": "code",
   "execution_count": 13,
   "metadata": {
    "collapsed": true
   },
   "outputs": [],
   "source": [
    "def prepare_dataset(url=None, sha256=None, prefix='.', skip=False):\n",
    "    url = url or DATASET_URL\n",
    "    sha256 = sha256 or DATASET_SHA256\n",
    "    local = fetch_url(url, sha256=sha256, prefix=prefix, dryRun=skip)\n",
    "\n",
    "    if not skip:\n",
    "        print ('Extracting', local, 'to', prefix)\n",
    "        with zipfile.ZipFile(local, 'r') as zip:\n",
    "            zip.extractall(prefix)\n",
    "\n",
    "    name, _ = os.path.splitext(local)\n",
    "    return name\n",
    "\n",
    "\n",
    "def locate_paths(path_md5list, prefix):\n",
    "    with open(path_md5list) as fd:\n",
    "        for line in itertools.imap(str.strip, fd):\n",
    "            parts = line.split()\n",
    "            if not len(parts) -- 2: continue\n",
    "            md5sum, path = parts\n",
    "            chksum = Checksum(value=md5sum, kind='md5')\n",
    "            filepath = os.path.join(prefix, path)\n",
    "            yield Path(checksum=chksum, filepath=filepath)\n",
    "\n",
    "\n",
    "def locate_images(paths):\n",
    "\n",
    "    def predicate(path):\n",
    "        _, ext = os.path.splitext(path.filepath)\n",
    "        return ext in ['.png']\n",
    "\n",
    "    for path in itertools.ifilter(predicate, paths):\n",
    "        yield image(id=path.checksum.value, path=path)"
   ]
  },
  {
   "cell_type": "markdown",
   "metadata": {},
   "source": [
    "## Data Model\n",
    "\n",
    "We'll define some classes so we have a nice API for working with the dataflow. We set `slots=True` so that the resulting objects will be more space-efficient."
   ]
  },
  {
   "cell_type": "markdown",
   "metadata": {},
   "source": [
    "### Utilities"
   ]
  },
  {
   "cell_type": "markdown",
   "metadata": {},
   "source": [
    "#### Checksum\n",
    "\n",
    "The checksum consists of the actual hash value (`value`) as well as a string representing the hashing algorithm.\n",
    "The validator enforces that the algorith can only be one of the listed acceptable methods"
   ]
  },
  {
   "cell_type": "code",
   "execution_count": 14,
   "metadata": {
    "collapsed": false
   },
   "outputs": [],
   "source": [
    "@attr.s(slots=True)\n",
    "class Checksum(object):\n",
    "  value = attr.ib()\n",
    "  kind = attr.ib(validator=lambda o, a, v: v in 'md5 sha1 sha224 sha256 sha384 sha512'.split())"
   ]
  },
  {
   "cell_type": "markdown",
   "metadata": {
    "collapsed": true
   },
   "source": [
    "#### Path\n",
    "\n",
    "`Path`s refer to an image's filepath and associated `Checksum`. We get the checksum \"for \"free\" since the MD5 hash is provided for each image in the dataset."
   ]
  },
  {
   "cell_type": "code",
   "execution_count": 16,
   "metadata": {
    "collapsed": true
   },
   "outputs": [],
   "source": [
    "@attr.s(slots=True)\n",
    "class Path(object):\n",
    "    checksum = attr.ib()\n",
    "    filepath = attr.ib()\n"
   ]
  },
  {
   "cell_type": "markdown",
   "metadata": {},
   "source": [
    "#### Image\n",
    "\n",
    "The start of the data pipeline is the image. An `image` has an `id` (the md5 hash) and the path to the image."
   ]
  },
  {
   "cell_type": "code",
   "execution_count": 17,
   "metadata": {
    "collapsed": true
   },
   "outputs": [],
   "source": [
    "@attr.s(slots=True)\n",
    "class image(object):\n",
    "    id = attr.ib()\n",
    "    path = attr.ib()"
   ]
  },
  {
   "cell_type": "markdown",
   "metadata": {},
   "source": [
    "### Mindtct\n",
    "\n",
    "The next step in the pipeline is to apply the `mindtct` program from NBIS. A `mindtct` object therefore represents the results of applying `mindtct` on an `image`. The `xyt` output is needed fo r the next step, and the `image` attribute represents the image id."
   ]
  },
  {
   "cell_type": "code",
   "execution_count": 18,
   "metadata": {
    "collapsed": true
   },
   "outputs": [],
   "source": [
    "@attr.s(slots=True)\n",
    "class mindtct(object):\n",
    "    image = attr.ib()\n",
    "    xyt = attr.ib()"
   ]
  },
  {
   "cell_type": "markdown",
   "metadata": {},
   "source": [
    "We need a way to construct a `mindtct` object from an `image` object. A straightforward way of doing this would be to have a `from_image` `@staticmethod` or `@classmethod`, but that doesn't work well with `multiprocessing` as top-level functions work best as they need to be serialized."
   ]
  },
  {
   "cell_type": "code",
   "execution_count": 19,
   "metadata": {
    "collapsed": true
   },
   "outputs": [],
   "source": [
    "def mindtct_from_image(image):\n",
    "    imgpath = os.path.abspath(image.path.filepath)\n",
    "    tempdir = tempfile.mkdtemp()\n",
    "    oroot = os.path.join(tempdir, 'result')\n",
    "\n",
    "    cmd = ['mindtct', imgpath, oroot]\n",
    "\n",
    "    try:\n",
    "        subprocess.check_call(cmd)\n",
    "\n",
    "        with open(oroot + '.xyt') as fd:\n",
    "            xyt = fd.read()\n",
    "\n",
    "        result = mindtct(image=image.id, xyt=xyt)\n",
    "        return result\n",
    "\n",
    "    finally:\n",
    "        shutil.rmtree(tempdir)\n"
   ]
  },
  {
   "cell_type": "markdown",
   "metadata": {},
   "source": [
    "### Bozorth3\n",
    "\n",
    "The final step in the pipeline is running the `bozorth3`"
   ]
  },
  {
   "cell_type": "code",
   "execution_count": null,
   "metadata": {
    "collapsed": true
   },
   "outputs": [],
   "source": []
  }
 ],
 "metadata": {
  "kernelspec": {
   "display_name": "Python 2",
   "language": "python",
   "name": "python2"
  },
  "language_info": {
   "codemirror_mode": {
    "name": "ipython",
    "version": 2
   },
   "file_extension": ".py",
   "mimetype": "text/x-python",
   "name": "python",
   "nbconvert_exporter": "python",
   "pygments_lexer": "ipython2",
   "version": "2.7.13"
  }
 },
 "nbformat": 4,
 "nbformat_minor": 0
}
